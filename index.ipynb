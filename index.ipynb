{
 "metadata": {
  "language_info": {
   "codemirror_mode": {
    "name": "ipython",
    "version": 3
   },
   "file_extension": ".py",
   "mimetype": "text/x-python",
   "name": "python",
   "nbconvert_exporter": "python",
   "pygments_lexer": "ipython3",
   "version": 3
  },
  "orig_nbformat": 2
 },
 "nbformat": 4,
 "nbformat_minor": 2,
 "cells": [
  {
   "source": [
    "# HMS Machine Learning PoC\n",
    "\n",
    "## Supervise Model\n",
    "- [Building the model](supervised-model-build.html)\n",
    "- [Test the model](supervised-model-exec.html)\n",
    "- [Predicted CSV](dataresult/supervised_orders.csv)\n",
    "\n",
    "## Unsupervise Model\n",
    "- [Building the model](unsupervised-model-build.html)\n",
    "- [Test the model](unsupervised-model-exec.html)\n",
    "- [Predicted CSV](dataresult/unsupervised_orders.csv)"
   ],
   "cell_type": "markdown",
   "metadata": {}
  }
 ]
}