{
 "metadata": {
  "language_info": {
   "codemirror_mode": {
    "name": "ipython",
    "version": 3
   },
   "file_extension": ".py",
   "mimetype": "text/x-python",
   "name": "python",
   "nbconvert_exporter": "python",
   "pygments_lexer": "ipython3",
   "version": "3.7.3-final"
  },
  "orig_nbformat": 2,
  "kernelspec": {
   "name": "Python 3.7.3 64-bit",
   "display_name": "Python 3.7.3 64-bit",
   "metadata": {
    "interpreter": {
     "hash": "aee8b7b246df8f9039afb4144a1f6fd8d2ca17a180786b69acc140d282b71a49"
    }
   }
  }
 },
 "nbformat": 4,
 "nbformat_minor": 2,
 "cells": [
  {
   "source": [
    "# Building Supervised AI Model to forecast sales anomaly\n",
    "Method: TF Neural Network Classifier\n",
    "\n",
    "Process:\n",
    "\n",
    "Modelling data by aggregate orders line and merging it to orders info\n",
    "Predict standard value of HMS product within orders\n",
    "Differrence between predicted value and actual value will define anomaly flag\n",
    "Features to be used:\n",
    "\n",
    "- Wholesaler\n",
    "- Retailer\n",
    "- Line Count\n",
    "- Line of HMS Product\n",
    "- Sum Qty of HMS\n",
    "- Value HMS\n",
    "\n",
    "Supervised label: anomaly_label"
   ],
   "cell_type": "markdown",
   "metadata": {}
  },
  {
   "cell_type": "code",
   "execution_count": 42,
   "metadata": {},
   "outputs": [],
   "source": [
    "import numpy as np\n",
    "import pandas as pd\n",
    "import tensorflow as tf\n",
    "\n",
    "from sklearn.model_selection import train_test_split\n",
    "from tensorflow.keras import layers\n",
    "from tensorflow.keras.layers.experimental import preprocessing"
   ]
  },
  {
   "source": [
    "## Read Data, check for missing field and apply defaut value"
   ],
   "cell_type": "markdown",
   "metadata": {}
  },
  {
   "cell_type": "code",
   "execution_count": 43,
   "metadata": {
    "tags": []
   },
   "outputs": [
    {
     "output_type": "stream",
     "name": "stdout",
     "text": "orders: 10000\nprods: 113606\n"
    }
   ],
   "source": [
    "orders = pd.read_csv(\"datasource/train_data/train_orders.csv\")\n",
    "prods = pd.read_csv(\"datasource/train_data/train_order_products.csv\")\n",
    "print(\"orders:\",len(orders))\n",
    "print(\"prods:\",len(prods))"
   ]
  },
  {
   "cell_type": "code",
   "execution_count": 44,
   "metadata": {},
   "outputs": [
    {
     "output_type": "execute_result",
     "data": {
      "text/plain": "        id  wholesaler_id  retailer_id buyer_type shipping_type order_type  \\\n0  5270143         154524       104735   retailer       pick-up        app   \n1  5331813         137063       103017   retailer       pick-up        app   \n\n         book_time   last_status last_status_time  anomaly_label  \n0  8/29/2020 15:53  siap-diambil  8/29/2020 16:06              0  \n1   9/1/2020 16:10  siap-diambil   9/8/2020 11:24              0  ",
      "text/html": "<div>\n<style scoped>\n    .dataframe tbody tr th:only-of-type {\n        vertical-align: middle;\n    }\n\n    .dataframe tbody tr th {\n        vertical-align: top;\n    }\n\n    .dataframe thead th {\n        text-align: right;\n    }\n</style>\n<table border=\"1\" class=\"dataframe\">\n  <thead>\n    <tr style=\"text-align: right;\">\n      <th></th>\n      <th>id</th>\n      <th>wholesaler_id</th>\n      <th>retailer_id</th>\n      <th>buyer_type</th>\n      <th>shipping_type</th>\n      <th>order_type</th>\n      <th>book_time</th>\n      <th>last_status</th>\n      <th>last_status_time</th>\n      <th>anomaly_label</th>\n    </tr>\n  </thead>\n  <tbody>\n    <tr>\n      <th>0</th>\n      <td>5270143</td>\n      <td>154524</td>\n      <td>104735</td>\n      <td>retailer</td>\n      <td>pick-up</td>\n      <td>app</td>\n      <td>8/29/2020 15:53</td>\n      <td>siap-diambil</td>\n      <td>8/29/2020 16:06</td>\n      <td>0</td>\n    </tr>\n    <tr>\n      <th>1</th>\n      <td>5331813</td>\n      <td>137063</td>\n      <td>103017</td>\n      <td>retailer</td>\n      <td>pick-up</td>\n      <td>app</td>\n      <td>9/1/2020 16:10</td>\n      <td>siap-diambil</td>\n      <td>9/8/2020 11:24</td>\n      <td>0</td>\n    </tr>\n  </tbody>\n</table>\n</div>"
     },
     "metadata": {},
     "execution_count": 44
    }
   ],
   "source": [
    "orders.isna().sum()\n",
    "orders.head(2)"
   ]
  },
  {
   "cell_type": "code",
   "execution_count": 45,
   "metadata": {},
   "outputs": [
    {
     "output_type": "execute_result",
     "data": {
      "text/plain": "id                  0\nsku_id              0\nbrand               0\npackaging           0\npackaging_amount    0\namount              0\nprice               0\nbook_time           0\nlast_status         0\nlast_status_time    0\ndtype: int64"
     },
     "metadata": {},
     "execution_count": 45
    }
   ],
   "source": [
    "prods[\"brand\"].fillna('Other', inplace=True)\n",
    "prods[\"packaging_amount\"].fillna(1, inplace=True)\n",
    "prods.isna().sum()"
   ]
  },
  {
   "source": [
    "## Create new features"
   ],
   "cell_type": "markdown",
   "metadata": {}
  },
  {
   "cell_type": "code",
   "execution_count": 46,
   "metadata": {},
   "outputs": [],
   "source": [
    "prods[\"is_hms\"] = prods.apply(lambda x: 1 if str(x.brand).lower().find(\"sampoerna\") > 0 else 0, axis=1)\n",
    "prods[\"qty\"] = prods[\"packaging_amount\"] * prods[\"amount\"]\n",
    "prods[\"value\"] = prods[\"price\"] * prods[\"amount\"]\n",
    "prods[\"qty_hms\"] = prods.apply(lambda x: x.qty if x.is_hms==1 else 0, axis=1)\n",
    "prods[\"value_hms\"] = prods.apply(lambda x: x.value if x.is_hms==1 else 0, axis=1)"
   ]
  },
  {
   "cell_type": "code",
   "execution_count": 47,
   "metadata": {},
   "outputs": [
    {
     "output_type": "execute_result",
     "data": {
      "text/plain": "        id  wholesaler_id  retailer_id buyer_type shipping_type order_type  \\\n0  5270143         154524       104735   retailer       pick-up        app   \n1  5331813         137063       103017   retailer       pick-up        app   \n\n         book_time   last_status last_status_time  anomaly_label  \\\n0  8/29/2020 15:53  siap-diambil  8/29/2020 16:06              0   \n1   9/1/2020 16:10  siap-diambil   9/8/2020 11:24              0   \n\n             trx_time  trx_date  \n0 2020-08-29 15:53:00  20200829  \n1 2020-09-01 16:10:00  20200901  ",
      "text/html": "<div>\n<style scoped>\n    .dataframe tbody tr th:only-of-type {\n        vertical-align: middle;\n    }\n\n    .dataframe tbody tr th {\n        vertical-align: top;\n    }\n\n    .dataframe thead th {\n        text-align: right;\n    }\n</style>\n<table border=\"1\" class=\"dataframe\">\n  <thead>\n    <tr style=\"text-align: right;\">\n      <th></th>\n      <th>id</th>\n      <th>wholesaler_id</th>\n      <th>retailer_id</th>\n      <th>buyer_type</th>\n      <th>shipping_type</th>\n      <th>order_type</th>\n      <th>book_time</th>\n      <th>last_status</th>\n      <th>last_status_time</th>\n      <th>anomaly_label</th>\n      <th>trx_time</th>\n      <th>trx_date</th>\n    </tr>\n  </thead>\n  <tbody>\n    <tr>\n      <th>0</th>\n      <td>5270143</td>\n      <td>154524</td>\n      <td>104735</td>\n      <td>retailer</td>\n      <td>pick-up</td>\n      <td>app</td>\n      <td>8/29/2020 15:53</td>\n      <td>siap-diambil</td>\n      <td>8/29/2020 16:06</td>\n      <td>0</td>\n      <td>2020-08-29 15:53:00</td>\n      <td>20200829</td>\n    </tr>\n    <tr>\n      <th>1</th>\n      <td>5331813</td>\n      <td>137063</td>\n      <td>103017</td>\n      <td>retailer</td>\n      <td>pick-up</td>\n      <td>app</td>\n      <td>9/1/2020 16:10</td>\n      <td>siap-diambil</td>\n      <td>9/8/2020 11:24</td>\n      <td>0</td>\n      <td>2020-09-01 16:10:00</td>\n      <td>20200901</td>\n    </tr>\n  </tbody>\n</table>\n</div>"
     },
     "metadata": {},
     "execution_count": 47
    }
   ],
   "source": [
    "orders[\"trx_time\"] = pd.to_datetime(orders[\"book_time\"])\n",
    "orders[\"trx_date\"] = orders[\"trx_time\"].dt.year*10000+orders[\"trx_time\"].dt.month*100+orders[\"trx_time\"].dt.day\n",
    "orders.head(2)"
   ]
  },
  {
   "source": [
    "## Aggregate order line and join it to orders"
   ],
   "cell_type": "markdown",
   "metadata": {}
  },
  {
   "cell_type": "code",
   "execution_count": 48,
   "metadata": {},
   "outputs": [
    {
     "output_type": "execute_result",
     "data": {
      "text/plain": "        id  wholesaler_id  retailer_id buyer_type shipping_type order_type  \\\n0  5270143         154524       104735   retailer       pick-up        app   \n1  5331813         137063       103017   retailer       pick-up        app   \n\n         book_time   last_status last_status_time  anomaly_label  \\\n0  8/29/2020 15:53  siap-diambil  8/29/2020 16:06              0   \n1   9/1/2020 16:10  siap-diambil   9/8/2020 11:24              0   \n\n             trx_time  trx_date  line_count  line_hms   qty  qty_hms   value  \\\n0 2020-08-29 15:53:00  20200829           6         6  44.0     44.0  844750   \n1 2020-09-01 16:10:00  20200901           1         1  20.0     20.0  316000   \n\n   value_hms            ts  \n0     844750  1.598716e+09  \n1     316000  1.598977e+09  ",
      "text/html": "<div>\n<style scoped>\n    .dataframe tbody tr th:only-of-type {\n        vertical-align: middle;\n    }\n\n    .dataframe tbody tr th {\n        vertical-align: top;\n    }\n\n    .dataframe thead th {\n        text-align: right;\n    }\n</style>\n<table border=\"1\" class=\"dataframe\">\n  <thead>\n    <tr style=\"text-align: right;\">\n      <th></th>\n      <th>id</th>\n      <th>wholesaler_id</th>\n      <th>retailer_id</th>\n      <th>buyer_type</th>\n      <th>shipping_type</th>\n      <th>order_type</th>\n      <th>book_time</th>\n      <th>last_status</th>\n      <th>last_status_time</th>\n      <th>anomaly_label</th>\n      <th>trx_time</th>\n      <th>trx_date</th>\n      <th>line_count</th>\n      <th>line_hms</th>\n      <th>qty</th>\n      <th>qty_hms</th>\n      <th>value</th>\n      <th>value_hms</th>\n      <th>ts</th>\n    </tr>\n  </thead>\n  <tbody>\n    <tr>\n      <th>0</th>\n      <td>5270143</td>\n      <td>154524</td>\n      <td>104735</td>\n      <td>retailer</td>\n      <td>pick-up</td>\n      <td>app</td>\n      <td>8/29/2020 15:53</td>\n      <td>siap-diambil</td>\n      <td>8/29/2020 16:06</td>\n      <td>0</td>\n      <td>2020-08-29 15:53:00</td>\n      <td>20200829</td>\n      <td>6</td>\n      <td>6</td>\n      <td>44.0</td>\n      <td>44.0</td>\n      <td>844750</td>\n      <td>844750</td>\n      <td>1.598716e+09</td>\n    </tr>\n    <tr>\n      <th>1</th>\n      <td>5331813</td>\n      <td>137063</td>\n      <td>103017</td>\n      <td>retailer</td>\n      <td>pick-up</td>\n      <td>app</td>\n      <td>9/1/2020 16:10</td>\n      <td>siap-diambil</td>\n      <td>9/8/2020 11:24</td>\n      <td>0</td>\n      <td>2020-09-01 16:10:00</td>\n      <td>20200901</td>\n      <td>1</td>\n      <td>1</td>\n      <td>20.0</td>\n      <td>20.0</td>\n      <td>316000</td>\n      <td>316000</td>\n      <td>1.598977e+09</td>\n    </tr>\n  </tbody>\n</table>\n</div>"
     },
     "metadata": {},
     "execution_count": 48
    }
   ],
   "source": [
    "prod_sum = prods.groupby(\"id\").agg(\n",
    "    {\"is_hms\":{\"line_count\":\"count\",\"line_hms\":\"sum\"}, \n",
    "    \"qty\":{\"qty\":\"sum\"}, \"qty_hms\":{\"qty_hms\":\"sum\"},\"value\":{\"value\":\"sum\"}, \"value_hms\":{\"value_hms\":\"sum\"}})\n",
    "prod_sum.columns = prod_sum.columns.droplevel(0)\n",
    "prod_sum = prod_sum.reset_index()\n",
    "\n",
    "orders_sum = orders.merge(prod_sum, how=\"left\", on=\"id\")\n",
    "orders_sum[\"ts\"] = orders_sum.apply(lambda x: x[\"trx_time\"].timestamp(), axis=1)\n",
    "orders_sum.head(2)"
   ]
  },
  {
   "source": [
    "## AI Model Functions"
   ],
   "cell_type": "markdown",
   "metadata": {}
  },
  {
   "cell_type": "code",
   "execution_count": 49,
   "metadata": {},
   "outputs": [],
   "source": [
    "# A utility method to create a tf.data dataset from a Pandas Dataframe\n",
    "def df_to_dataset(dataframe, target_name, shuffle=True, batch_size=32):\n",
    "  dataframe = dataframe.copy().rename(columns={target_name:'target'})\n",
    "  labels = dataframe.pop('target')\n",
    "  ds = tf.data.Dataset.from_tensor_slices((dict(dataframe), labels))\n",
    "  if shuffle:\n",
    "    ds = ds.shuffle(buffer_size=len(dataframe))\n",
    "  ds = ds.batch(batch_size)\n",
    "  ds = ds.prefetch(batch_size)\n",
    "  return ds\n",
    "\n",
    "def get_normalization_layer(name, dataset):\n",
    "  # Create a Normalization layer for our feature.\n",
    "  normalizer = preprocessing.Normalization()\n",
    "\n",
    "  # Prepare a Dataset that only yields our feature.\n",
    "  feature_ds = dataset.map(lambda x, y: x[name])\n",
    "\n",
    "  # Learn the statistics of the data.\n",
    "  normalizer.adapt(feature_ds)\n",
    "\n",
    "  return normalizer\n",
    "\n",
    "def get_category_encoding_layer(name, dataset, dtype, max_tokens=None):\n",
    "  # Create a StringLookup layer which will turn strings into integer indices\n",
    "  if dtype == 'string':\n",
    "    index = preprocessing.StringLookup(max_tokens=max_tokens)\n",
    "  else:\n",
    "    index = preprocessing.IntegerLookup(max_values=max_tokens)\n",
    "\n",
    "  # Prepare a Dataset that only yields our feature\n",
    "  feature_ds = dataset.map(lambda x, y: x[name])\n",
    "\n",
    "  # Learn the set of possible values and assign them a fixed integer index.\n",
    "  index.adapt(feature_ds)\n",
    "\n",
    "  # Create a Discretization for our integer indices.\n",
    "  encoder = preprocessing.CategoryEncoding(max_tokens=index.vocab_size())\n",
    "\n",
    "  # Prepare a Dataset that only yields our feature.\n",
    "  feature_ds = feature_ds.map(index)\n",
    "\n",
    "  # Learn the space of possible indices.\n",
    "  encoder.adapt(feature_ds)\n",
    "\n",
    "  # Apply one-hot encoding to our indices. The lambda function captures the\n",
    "  # layer so we can use them, or include them in the functional model later.\n",
    "  return lambda feature: encoder(index(feature))"
   ]
  },
  {
   "cell_type": "code",
   "execution_count": 54,
   "metadata": {
    "tags": []
   },
   "outputs": [],
   "source": [
    "def make_aimodel(model_name='model', wsid=[], test_size=0.2, epochs=10, batch_size=256):\n",
    "    if len(wsid) <= 5:\n",
    "        print(\"Build AI model for wholesaler {0}\".format(wsid))\n",
    "    else:\n",
    "        print(\"Build AI model for wholesalers {0}...\".format(wsid[:4]))\n",
    "\n",
    "    cols = [\"wholesaler_id\",\"retailer_id\", \"line_count\",\"line_hms\",\"value\",\"value_hms\",\"qty_hms\",\"anomaly_label\"]\n",
    "    data = orders_sum.drop(columns=[\"id\",\"trx_date\"]) if len(wsid)==0 else orders_sum[orders_sum[\"wholesaler_id\"].isin(wsid)].drop(columns=[\"id\",\"trx_date\"])\n",
    "    data = data[cols]\n",
    "    print(\"Data count: {0}\".format(len(data)))\n",
    "    \n",
    "    train, val = train_test_split(data, test_size=test_size)\n",
    "    train, test = train_test_split(train, test_size=test_size)\n",
    "\n",
    "    train_ds = df_to_dataset(train, batch_size=batch_size, target_name=\"anomaly_label\")\n",
    "    val_ds = df_to_dataset(val, shuffle=False, batch_size=batch_size, target_name=\"anomaly_label\")\n",
    "    test_ds = df_to_dataset(test, shuffle=False, batch_size=batch_size, target_name=\"anomaly_label\")\n",
    "\n",
    "    category_int_columns = [\"wholesaler_id\",\"retailer_id\"]\n",
    "    category_str_columns = []\n",
    "    numerical_columns = [\"line_count\",\"line_hms\",\"value\",\"value_hms\",\"qty_hms\"]\n",
    "    inputs = []\n",
    "    features = []\n",
    "\n",
    "    # numerical cols\n",
    "    for header in numerical_columns:\n",
    "        numeric_col = tf.keras.Input(shape=(1,), name=header)\n",
    "        normalization_layer = get_normalization_layer(header, train_ds)\n",
    "        encoded_numeric_col = normalization_layer(numeric_col)\n",
    "        inputs.append(numeric_col)\n",
    "        features.append(encoded_numeric_col)\n",
    "\n",
    "    # categorical cols (int)\n",
    "    for header in category_int_columns:\n",
    "        categorical_col = tf.keras.Input(shape=(1,), name=header, dtype='int64')\n",
    "        encoding_layer = get_category_encoding_layer(header, train_ds, dtype='int64')\n",
    "        encoded_categorical_col = encoding_layer(categorical_col)\n",
    "        inputs.append(categorical_col)\n",
    "        features.append(encoded_categorical_col)\n",
    "\n",
    "    # categorical cols (str)\n",
    "    for header in category_str_columns:\n",
    "        categorical_col = tf.keras.Input(shape=(1,), name=header, dtype='string')\n",
    "        encoding_layer = get_category_encoding_layer(header, train_ds, dtype='string')\n",
    "        encoded_categorical_col = encoding_layer(categorical_col)\n",
    "        inputs.append(categorical_col)\n",
    "        features.append(encoded_categorical_col)\n",
    "\n",
    "    # the model\n",
    "    model_features = tf.keras.layers.concatenate(features)\n",
    "    x = tf.keras.layers.Dense(32, activation=\"relu\")(model_features)\n",
    "    x = tf.keras.layers.Dropout(0.5)(x)\n",
    "    output = tf.keras.layers.Dense(1)(x)\n",
    "    model = tf.keras.Model(inputs, output)\n",
    "    model.compile(optimizer='adam',\n",
    "                loss=tf.keras.losses.BinaryCrossentropy(from_logits=True),\n",
    "                metrics=[\"accuracy\"])\n",
    "\n",
    "    # visualize the model\n",
    "    # tf.keras.utils.plot_model(model, show_shapes=True, rankdir=\"LR\")\n",
    "\n",
    "    # train\n",
    "    model.fit(train_ds, epochs=epochs, validation_data=test_ds)\n",
    "    model.save(\"aimodel/{0}\".format(model_name))\n",
    "\n",
    "    # check accuracy\n",
    "    loss, accuracy = model.evaluate(val_ds)\n",
    "    print(\"Accuracy\", accuracy)\n",
    "    print(\"\")"
   ]
  },
  {
   "source": [
    "## Create the model and save"
   ],
   "cell_type": "markdown",
   "metadata": {}
  },
  {
   "cell_type": "code",
   "execution_count": 55,
   "metadata": {
    "tags": []
   },
   "outputs": [
    {
     "output_type": "stream",
     "name": "stdout",
     "text": "Build AI model for wholesaler []\nData count: 10000\nEpoch 1/100\n25/25 [==============================] - 0s 17ms/step - loss: 0.6533 - accuracy: 0.9609 - val_loss: 0.6044 - val_accuracy: 0.9669\nEpoch 2/100\n25/25 [==============================] - 0s 8ms/step - loss: 0.5629 - accuracy: 0.9613 - val_loss: 0.5140 - val_accuracy: 0.9669\nEpoch 3/100\n25/25 [==============================] - 0s 9ms/step - loss: 0.4692 - accuracy: 0.9609 - val_loss: 0.4233 - val_accuracy: 0.9669\nEpoch 4/100\n25/25 [==============================] - 0s 9ms/step - loss: 0.3818 - accuracy: 0.9609 - val_loss: 0.3413 - val_accuracy: 0.9669\nEpoch 5/100\n25/25 [==============================] - 0s 8ms/step - loss: 0.3057 - accuracy: 0.9614 - val_loss: 0.2736 - val_accuracy: 0.9669\nEpoch 6/100\n25/25 [==============================] - 0s 9ms/step - loss: 0.2477 - accuracy: 0.9634 - val_loss: 0.2227 - val_accuracy: 0.9669\nEpoch 7/100\n25/25 [==============================] - 0s 8ms/step - loss: 0.2048 - accuracy: 0.9683 - val_loss: 0.1850 - val_accuracy: 0.9694\nEpoch 8/100\n25/25 [==============================] - 0s 9ms/step - loss: 0.1698 - accuracy: 0.9742 - val_loss: 0.1569 - val_accuracy: 0.9794\nEpoch 9/100\n25/25 [==============================] - 0s 9ms/step - loss: 0.1456 - accuracy: 0.9778 - val_loss: 0.1365 - val_accuracy: 0.9800\nEpoch 10/100\n25/25 [==============================] - 0s 8ms/step - loss: 0.1254 - accuracy: 0.9803 - val_loss: 0.1214 - val_accuracy: 0.9800\nEpoch 11/100\n25/25 [==============================] - 0s 8ms/step - loss: 0.1115 - accuracy: 0.9820 - val_loss: 0.1094 - val_accuracy: 0.9800\nEpoch 12/100\n25/25 [==============================] - 0s 8ms/step - loss: 0.1016 - accuracy: 0.9822 - val_loss: 0.1009 - val_accuracy: 0.9800\nEpoch 13/100\n25/25 [==============================] - 0s 8ms/step - loss: 0.0912 - accuracy: 0.9825 - val_loss: 0.0934 - val_accuracy: 0.9800\nEpoch 14/100\n25/25 [==============================] - 0s 8ms/step - loss: 0.0860 - accuracy: 0.9828 - val_loss: 0.0877 - val_accuracy: 0.9800\nEpoch 15/100\n25/25 [==============================] - 0s 8ms/step - loss: 0.0816 - accuracy: 0.9828 - val_loss: 0.0829 - val_accuracy: 0.9800\nEpoch 16/100\n25/25 [==============================] - 0s 8ms/step - loss: 0.0739 - accuracy: 0.9830 - val_loss: 0.0789 - val_accuracy: 0.9800\nEpoch 17/100\n25/25 [==============================] - 0s 9ms/step - loss: 0.0718 - accuracy: 0.9828 - val_loss: 0.0755 - val_accuracy: 0.9806\nEpoch 18/100\n25/25 [==============================] - 0s 9ms/step - loss: 0.0666 - accuracy: 0.9853 - val_loss: 0.0724 - val_accuracy: 0.9812\nEpoch 19/100\n25/25 [==============================] - 0s 9ms/step - loss: 0.0659 - accuracy: 0.9845 - val_loss: 0.0700 - val_accuracy: 0.9812\nEpoch 20/100\n25/25 [==============================] - 0s 9ms/step - loss: 0.0635 - accuracy: 0.9845 - val_loss: 0.0681 - val_accuracy: 0.9819\nEpoch 21/100\n25/25 [==============================] - 0s 10ms/step - loss: 0.0587 - accuracy: 0.9844 - val_loss: 0.0660 - val_accuracy: 0.9819\nEpoch 22/100\n25/25 [==============================] - 0s 9ms/step - loss: 0.0571 - accuracy: 0.9852 - val_loss: 0.0642 - val_accuracy: 0.9812\nEpoch 23/100\n25/25 [==============================] - 0s 9ms/step - loss: 0.0535 - accuracy: 0.9852 - val_loss: 0.0627 - val_accuracy: 0.9812\nEpoch 24/100\n25/25 [==============================] - 0s 9ms/step - loss: 0.0528 - accuracy: 0.9852 - val_loss: 0.0613 - val_accuracy: 0.9819\nEpoch 25/100\n25/25 [==============================] - 0s 9ms/step - loss: 0.0506 - accuracy: 0.9850 - val_loss: 0.0602 - val_accuracy: 0.9819\nEpoch 26/100\n25/25 [==============================] - 0s 9ms/step - loss: 0.0521 - accuracy: 0.9848 - val_loss: 0.0592 - val_accuracy: 0.9819\nEpoch 27/100\n25/25 [==============================] - 0s 9ms/step - loss: 0.0496 - accuracy: 0.9847 - val_loss: 0.0583 - val_accuracy: 0.9819\nEpoch 28/100\n25/25 [==============================] - 0s 9ms/step - loss: 0.0481 - accuracy: 0.9855 - val_loss: 0.0576 - val_accuracy: 0.9819\nEpoch 29/100\n25/25 [==============================] - 0s 9ms/step - loss: 0.0463 - accuracy: 0.9856 - val_loss: 0.0568 - val_accuracy: 0.9819\nEpoch 30/100\n25/25 [==============================] - 0s 9ms/step - loss: 0.0454 - accuracy: 0.9861 - val_loss: 0.0560 - val_accuracy: 0.9819\nEpoch 31/100\n25/25 [==============================] - 0s 8ms/step - loss: 0.0450 - accuracy: 0.9856 - val_loss: 0.0555 - val_accuracy: 0.9819\nEpoch 32/100\n25/25 [==============================] - 0s 9ms/step - loss: 0.0448 - accuracy: 0.9859 - val_loss: 0.0549 - val_accuracy: 0.9819\nEpoch 33/100\n25/25 [==============================] - 0s 8ms/step - loss: 0.0435 - accuracy: 0.9858 - val_loss: 0.0545 - val_accuracy: 0.9819\nEpoch 34/100\n25/25 [==============================] - 0s 9ms/step - loss: 0.0419 - accuracy: 0.9861 - val_loss: 0.0541 - val_accuracy: 0.9819\nEpoch 35/100\n25/25 [==============================] - 0s 9ms/step - loss: 0.0417 - accuracy: 0.9862 - val_loss: 0.0536 - val_accuracy: 0.9819\nEpoch 36/100\n25/25 [==============================] - 0s 9ms/step - loss: 0.0410 - accuracy: 0.9862 - val_loss: 0.0532 - val_accuracy: 0.9825\nEpoch 37/100\n25/25 [==============================] - 0s 9ms/step - loss: 0.0402 - accuracy: 0.9867 - val_loss: 0.0528 - val_accuracy: 0.9825\nEpoch 38/100\n25/25 [==============================] - 0s 9ms/step - loss: 0.0383 - accuracy: 0.9873 - val_loss: 0.0525 - val_accuracy: 0.9831\nEpoch 39/100\n25/25 [==============================] - 0s 8ms/step - loss: 0.0381 - accuracy: 0.9861 - val_loss: 0.0522 - val_accuracy: 0.9831\nEpoch 40/100\n25/25 [==============================] - 0s 8ms/step - loss: 0.0384 - accuracy: 0.9866 - val_loss: 0.0521 - val_accuracy: 0.9831\nEpoch 41/100\n25/25 [==============================] - 0s 8ms/step - loss: 0.0365 - accuracy: 0.9861 - val_loss: 0.0518 - val_accuracy: 0.9831\nEpoch 42/100\n25/25 [==============================] - 0s 9ms/step - loss: 0.0370 - accuracy: 0.9862 - val_loss: 0.0515 - val_accuracy: 0.9831\nEpoch 43/100\n25/25 [==============================] - 0s 9ms/step - loss: 0.0374 - accuracy: 0.9855 - val_loss: 0.0511 - val_accuracy: 0.9831\nEpoch 44/100\n25/25 [==============================] - 0s 8ms/step - loss: 0.0368 - accuracy: 0.9873 - val_loss: 0.0510 - val_accuracy: 0.9819\nEpoch 45/100\n25/25 [==============================] - 0s 8ms/step - loss: 0.0366 - accuracy: 0.9859 - val_loss: 0.0510 - val_accuracy: 0.9825\nEpoch 46/100\n25/25 [==============================] - 0s 8ms/step - loss: 0.0349 - accuracy: 0.9867 - val_loss: 0.0506 - val_accuracy: 0.9825\nEpoch 47/100\n25/25 [==============================] - 0s 8ms/step - loss: 0.0347 - accuracy: 0.9872 - val_loss: 0.0503 - val_accuracy: 0.9831\nEpoch 48/100\n25/25 [==============================] - 0s 9ms/step - loss: 0.0349 - accuracy: 0.9870 - val_loss: 0.0502 - val_accuracy: 0.9837\nEpoch 49/100\n25/25 [==============================] - 0s 8ms/step - loss: 0.0328 - accuracy: 0.9881 - val_loss: 0.0501 - val_accuracy: 0.9837\nEpoch 50/100\n25/25 [==============================] - 0s 8ms/step - loss: 0.0354 - accuracy: 0.9866 - val_loss: 0.0504 - val_accuracy: 0.9837\nEpoch 51/100\n25/25 [==============================] - 0s 8ms/step - loss: 0.0340 - accuracy: 0.9872 - val_loss: 0.0501 - val_accuracy: 0.9837\nEpoch 52/100\n25/25 [==============================] - 0s 8ms/step - loss: 0.0330 - accuracy: 0.9861 - val_loss: 0.0501 - val_accuracy: 0.9837\nEpoch 53/100\n25/25 [==============================] - 0s 9ms/step - loss: 0.0325 - accuracy: 0.9880 - val_loss: 0.0500 - val_accuracy: 0.9837\nEpoch 54/100\n25/25 [==============================] - 0s 8ms/step - loss: 0.0326 - accuracy: 0.9878 - val_loss: 0.0499 - val_accuracy: 0.9825\nEpoch 55/100\n25/25 [==============================] - 0s 8ms/step - loss: 0.0320 - accuracy: 0.9883 - val_loss: 0.0498 - val_accuracy: 0.9825\nEpoch 56/100\n25/25 [==============================] - 0s 8ms/step - loss: 0.0316 - accuracy: 0.9873 - val_loss: 0.0495 - val_accuracy: 0.9825\nEpoch 57/100\n25/25 [==============================] - 0s 9ms/step - loss: 0.0319 - accuracy: 0.9872 - val_loss: 0.0495 - val_accuracy: 0.9837\nEpoch 58/100\n25/25 [==============================] - 0s 9ms/step - loss: 0.0323 - accuracy: 0.9870 - val_loss: 0.0495 - val_accuracy: 0.9837\nEpoch 59/100\n25/25 [==============================] - 0s 8ms/step - loss: 0.0303 - accuracy: 0.9881 - val_loss: 0.0495 - val_accuracy: 0.9825\nEpoch 60/100\n25/25 [==============================] - 0s 8ms/step - loss: 0.0312 - accuracy: 0.9880 - val_loss: 0.0494 - val_accuracy: 0.9837\nEpoch 61/100\n25/25 [==============================] - 0s 8ms/step - loss: 0.0300 - accuracy: 0.9877 - val_loss: 0.0494 - val_accuracy: 0.9837\nEpoch 62/100\n25/25 [==============================] - 0s 8ms/step - loss: 0.0307 - accuracy: 0.9873 - val_loss: 0.0495 - val_accuracy: 0.9837\nEpoch 63/100\n25/25 [==============================] - 0s 8ms/step - loss: 0.0302 - accuracy: 0.9884 - val_loss: 0.0497 - val_accuracy: 0.9837\nEpoch 64/100\n25/25 [==============================] - 0s 8ms/step - loss: 0.0294 - accuracy: 0.9880 - val_loss: 0.0498 - val_accuracy: 0.9825\nEpoch 65/100\n25/25 [==============================] - 0s 8ms/step - loss: 0.0298 - accuracy: 0.9877 - val_loss: 0.0495 - val_accuracy: 0.9825\nEpoch 66/100\n25/25 [==============================] - 0s 8ms/step - loss: 0.0299 - accuracy: 0.9870 - val_loss: 0.0493 - val_accuracy: 0.9825\nEpoch 67/100\n25/25 [==============================] - 0s 8ms/step - loss: 0.0294 - accuracy: 0.9884 - val_loss: 0.0494 - val_accuracy: 0.9837\nEpoch 68/100\n25/25 [==============================] - 0s 8ms/step - loss: 0.0304 - accuracy: 0.9872 - val_loss: 0.0495 - val_accuracy: 0.9831\nEpoch 69/100\n25/25 [==============================] - 0s 8ms/step - loss: 0.0286 - accuracy: 0.9880 - val_loss: 0.0495 - val_accuracy: 0.9837\nEpoch 70/100\n25/25 [==============================] - 0s 8ms/step - loss: 0.0286 - accuracy: 0.9891 - val_loss: 0.0494 - val_accuracy: 0.9837\nEpoch 71/100\n25/25 [==============================] - 0s 8ms/step - loss: 0.0309 - accuracy: 0.9878 - val_loss: 0.0496 - val_accuracy: 0.9831\nEpoch 72/100\n25/25 [==============================] - 0s 8ms/step - loss: 0.0294 - accuracy: 0.9870 - val_loss: 0.0495 - val_accuracy: 0.9831\nEpoch 73/100\n25/25 [==============================] - 0s 8ms/step - loss: 0.0278 - accuracy: 0.9881 - val_loss: 0.0496 - val_accuracy: 0.9831\nEpoch 74/100\n25/25 [==============================] - 0s 8ms/step - loss: 0.0298 - accuracy: 0.9881 - val_loss: 0.0494 - val_accuracy: 0.9831\nEpoch 75/100\n25/25 [==============================] - 0s 8ms/step - loss: 0.0290 - accuracy: 0.9883 - val_loss: 0.0495 - val_accuracy: 0.9825\nEpoch 76/100\n25/25 [==============================] - 0s 8ms/step - loss: 0.0279 - accuracy: 0.9873 - val_loss: 0.0495 - val_accuracy: 0.9831\nEpoch 77/100\n25/25 [==============================] - 0s 9ms/step - loss: 0.0297 - accuracy: 0.9870 - val_loss: 0.0496 - val_accuracy: 0.9837\nEpoch 78/100\n25/25 [==============================] - 0s 8ms/step - loss: 0.0283 - accuracy: 0.9883 - val_loss: 0.0495 - val_accuracy: 0.9837\nEpoch 79/100\n25/25 [==============================] - 0s 8ms/step - loss: 0.0270 - accuracy: 0.9883 - val_loss: 0.0494 - val_accuracy: 0.9837\nEpoch 80/100\n25/25 [==============================] - 0s 10ms/step - loss: 0.0267 - accuracy: 0.9880 - val_loss: 0.0499 - val_accuracy: 0.9831\nEpoch 81/100\n25/25 [==============================] - 0s 9ms/step - loss: 0.0282 - accuracy: 0.9880 - val_loss: 0.0498 - val_accuracy: 0.9831\nEpoch 82/100\n25/25 [==============================] - 0s 9ms/step - loss: 0.0279 - accuracy: 0.9880 - val_loss: 0.0499 - val_accuracy: 0.9831\nEpoch 83/100\n25/25 [==============================] - 0s 10ms/step - loss: 0.0275 - accuracy: 0.9881 - val_loss: 0.0498 - val_accuracy: 0.9831\nEpoch 84/100\n25/25 [==============================] - 0s 9ms/step - loss: 0.0276 - accuracy: 0.9869 - val_loss: 0.0500 - val_accuracy: 0.9831\nEpoch 85/100\n25/25 [==============================] - 0s 9ms/step - loss: 0.0271 - accuracy: 0.9877 - val_loss: 0.0498 - val_accuracy: 0.9831\nEpoch 86/100\n25/25 [==============================] - 0s 8ms/step - loss: 0.0274 - accuracy: 0.9886 - val_loss: 0.0501 - val_accuracy: 0.9831\nEpoch 87/100\n25/25 [==============================] - 0s 9ms/step - loss: 0.0271 - accuracy: 0.9886 - val_loss: 0.0503 - val_accuracy: 0.9831\nEpoch 88/100\n25/25 [==============================] - 0s 9ms/step - loss: 0.0276 - accuracy: 0.9881 - val_loss: 0.0502 - val_accuracy: 0.9831\nEpoch 89/100\n25/25 [==============================] - 0s 9ms/step - loss: 0.0272 - accuracy: 0.9883 - val_loss: 0.0503 - val_accuracy: 0.9831\nEpoch 90/100\n25/25 [==============================] - 0s 8ms/step - loss: 0.0272 - accuracy: 0.9883 - val_loss: 0.0504 - val_accuracy: 0.9831\nEpoch 91/100\n25/25 [==============================] - 0s 8ms/step - loss: 0.0264 - accuracy: 0.9880 - val_loss: 0.0503 - val_accuracy: 0.9831\nEpoch 92/100\n25/25 [==============================] - 0s 10ms/step - loss: 0.0260 - accuracy: 0.9886 - val_loss: 0.0505 - val_accuracy: 0.9831\nEpoch 93/100\n25/25 [==============================] - 0s 9ms/step - loss: 0.0261 - accuracy: 0.9884 - val_loss: 0.0506 - val_accuracy: 0.9831\nEpoch 94/100\n25/25 [==============================] - 0s 10ms/step - loss: 0.0260 - accuracy: 0.9889 - val_loss: 0.0508 - val_accuracy: 0.9831\nEpoch 95/100\n25/25 [==============================] - 0s 8ms/step - loss: 0.0261 - accuracy: 0.9886 - val_loss: 0.0509 - val_accuracy: 0.9831\nEpoch 96/100\n25/25 [==============================] - 0s 9ms/step - loss: 0.0266 - accuracy: 0.9880 - val_loss: 0.0508 - val_accuracy: 0.9825\nEpoch 97/100\n25/25 [==============================] - 0s 9ms/step - loss: 0.0261 - accuracy: 0.9884 - val_loss: 0.0509 - val_accuracy: 0.9825\nEpoch 98/100\n25/25 [==============================] - 0s 8ms/step - loss: 0.0261 - accuracy: 0.9875 - val_loss: 0.0511 - val_accuracy: 0.9825\nEpoch 99/100\n25/25 [==============================] - 0s 8ms/step - loss: 0.0266 - accuracy: 0.9880 - val_loss: 0.0511 - val_accuracy: 0.9825\nEpoch 100/100\n25/25 [==============================] - 0s 8ms/step - loss: 0.0271 - accuracy: 0.9881 - val_loss: 0.0510 - val_accuracy: 0.9825\n8/8 [==============================] - 0s 5ms/step - loss: 0.0598 - accuracy: 0.9850\nAccuracy 0.9850000143051147\n\n"
    }
   ],
   "source": [
    "make_aimodel(\"ws_all\", epochs=100)"
   ]
  }
 ]
}