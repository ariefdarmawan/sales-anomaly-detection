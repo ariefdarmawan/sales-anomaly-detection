{
 "metadata": {
  "language_info": {
   "codemirror_mode": {
    "name": "ipython",
    "version": 3
   },
   "file_extension": ".py",
   "mimetype": "text/x-python",
   "name": "python",
   "nbconvert_exporter": "python",
   "pygments_lexer": "ipython3",
   "version": "3.7.3-final"
  },
  "orig_nbformat": 2,
  "kernelspec": {
   "name": "Python 3.7.3 64-bit",
   "display_name": "Python 3.7.3 64-bit",
   "metadata": {
    "interpreter": {
     "hash": "aee8b7b246df8f9039afb4144a1f6fd8d2ca17a180786b69acc140d282b71a49"
    }
   }
  }
 },
 "nbformat": 4,
 "nbformat_minor": 2,
 "cells": [
  {
   "source": [
    "# Executing Supervised AI Model to forecast sales anomaly\n",
    "Method: TF Neural Network Classifier\n",
    "\n",
    "Process:\n",
    "\n",
    "Modelling data by aggregate orders line and merging it to orders info Predict standard value of HMS product within orders Differrence between predicted value and actual value will define anomaly flag Features to be used:\n",
    "\n",
    "Wholesaler\n",
    "Retailer\n",
    "Line Count\n",
    "Line of HMS Product\n",
    "Sum Qty of HMS\n",
    "Value HMS\n",
    "Supervised label: anomaly_label"
   ],
   "cell_type": "markdown",
   "metadata": {}
  },
  {
   "cell_type": "code",
   "execution_count": 27,
   "metadata": {},
   "outputs": [],
   "source": [
    "import numpy as np\n",
    "import pandas as pd\n",
    "import tensorflow as tf"
   ]
  },
  {
   "cell_type": "code",
   "execution_count": 28,
   "metadata": {
    "tags": []
   },
   "outputs": [
    {
     "output_type": "stream",
     "name": "stdout",
     "text": "orders: 3000\nprods: 27623\n"
    }
   ],
   "source": [
    "orders = pd.read_csv(\"datasource/test_data/test_orders.csv\")\n",
    "prods = pd.read_csv(\"datasource/test_data/test_order_products.csv\")\n",
    "print(\"orders:\",len(orders))\n",
    "print(\"prods:\",len(prods))"
   ]
  },
  {
   "cell_type": "code",
   "execution_count": 29,
   "metadata": {},
   "outputs": [
    {
     "output_type": "execute_result",
     "data": {
      "text/plain": "id                     0\nwholesaler_id          0\nretailer_id         1452\nbuyer_type             0\nshipping_type          0\norder_type             0\nbook_time              0\nlast_status            0\nlast_status_time       0\ndtype: int64"
     },
     "metadata": {},
     "execution_count": 29
    }
   ],
   "source": [
    "orders.isna().sum()"
   ]
  },
  {
   "cell_type": "code",
   "execution_count": 30,
   "metadata": {},
   "outputs": [],
   "source": [
    "orders[\"retailer_id\"].fillna(0, inplace=True)"
   ]
  },
  {
   "cell_type": "code",
   "execution_count": 31,
   "metadata": {},
   "outputs": [
    {
     "output_type": "execute_result",
     "data": {
      "text/plain": "        id  wholesaler_id  retailer_id buyer_type shipping_type order_type  \\\n0  3585206         137074     114640.0   retailer       pick-up        app   \n1  3585223         172815     190897.0   retailer       pick-up        app   \n\n       book_time       last_status last_status_time  \n0  6/9/2020 8:46           selesai  6/22/2020 22:12  \n1  6/9/2020 8:47  pesanan-diterima  6/11/2020 15:05  ",
      "text/html": "<div>\n<style scoped>\n    .dataframe tbody tr th:only-of-type {\n        vertical-align: middle;\n    }\n\n    .dataframe tbody tr th {\n        vertical-align: top;\n    }\n\n    .dataframe thead th {\n        text-align: right;\n    }\n</style>\n<table border=\"1\" class=\"dataframe\">\n  <thead>\n    <tr style=\"text-align: right;\">\n      <th></th>\n      <th>id</th>\n      <th>wholesaler_id</th>\n      <th>retailer_id</th>\n      <th>buyer_type</th>\n      <th>shipping_type</th>\n      <th>order_type</th>\n      <th>book_time</th>\n      <th>last_status</th>\n      <th>last_status_time</th>\n    </tr>\n  </thead>\n  <tbody>\n    <tr>\n      <th>0</th>\n      <td>3585206</td>\n      <td>137074</td>\n      <td>114640.0</td>\n      <td>retailer</td>\n      <td>pick-up</td>\n      <td>app</td>\n      <td>6/9/2020 8:46</td>\n      <td>selesai</td>\n      <td>6/22/2020 22:12</td>\n    </tr>\n    <tr>\n      <th>1</th>\n      <td>3585223</td>\n      <td>172815</td>\n      <td>190897.0</td>\n      <td>retailer</td>\n      <td>pick-up</td>\n      <td>app</td>\n      <td>6/9/2020 8:47</td>\n      <td>pesanan-diterima</td>\n      <td>6/11/2020 15:05</td>\n    </tr>\n  </tbody>\n</table>\n</div>"
     },
     "metadata": {},
     "execution_count": 31
    }
   ],
   "source": [
    "orders.head(2)"
   ]
  },
  {
   "cell_type": "code",
   "execution_count": 32,
   "metadata": {},
   "outputs": [
    {
     "output_type": "execute_result",
     "data": {
      "text/plain": "        id           sku_id            brand packaging  packaging_amount  \\\n0  3528407   013.000248.001  PT.Mayora Indah       KRT                11   \n1  3725739  001.4103159.000  PT.HM Sampoerna       bks                 1   \n\n   amount   price            book_time last_status     last_status_time  \n0       1  118000  2020-06-05 08:02:29   disetujui  2020-06-05 08:02:29  \n1       5   16400  2020-06-18 07:11:08   disetujui  2020-06-18 07:11:08  ",
      "text/html": "<div>\n<style scoped>\n    .dataframe tbody tr th:only-of-type {\n        vertical-align: middle;\n    }\n\n    .dataframe tbody tr th {\n        vertical-align: top;\n    }\n\n    .dataframe thead th {\n        text-align: right;\n    }\n</style>\n<table border=\"1\" class=\"dataframe\">\n  <thead>\n    <tr style=\"text-align: right;\">\n      <th></th>\n      <th>id</th>\n      <th>sku_id</th>\n      <th>brand</th>\n      <th>packaging</th>\n      <th>packaging_amount</th>\n      <th>amount</th>\n      <th>price</th>\n      <th>book_time</th>\n      <th>last_status</th>\n      <th>last_status_time</th>\n    </tr>\n  </thead>\n  <tbody>\n    <tr>\n      <th>0</th>\n      <td>3528407</td>\n      <td>013.000248.001</td>\n      <td>PT.Mayora Indah</td>\n      <td>KRT</td>\n      <td>11</td>\n      <td>1</td>\n      <td>118000</td>\n      <td>2020-06-05 08:02:29</td>\n      <td>disetujui</td>\n      <td>2020-06-05 08:02:29</td>\n    </tr>\n    <tr>\n      <th>1</th>\n      <td>3725739</td>\n      <td>001.4103159.000</td>\n      <td>PT.HM Sampoerna</td>\n      <td>bks</td>\n      <td>1</td>\n      <td>5</td>\n      <td>16400</td>\n      <td>2020-06-18 07:11:08</td>\n      <td>disetujui</td>\n      <td>2020-06-18 07:11:08</td>\n    </tr>\n  </tbody>\n</table>\n</div>"
     },
     "metadata": {},
     "execution_count": 32
    }
   ],
   "source": [
    "prods.head(2)"
   ]
  },
  {
   "cell_type": "code",
   "execution_count": 33,
   "metadata": {},
   "outputs": [],
   "source": [
    "# apply is_hms\n",
    "prods[\"is_hms\"] = prods.apply(lambda x: 1 if str(x.brand).lower().find(\"sampoerna\") > 0 else 0, axis=1)\n",
    "prods[\"qty\"] = prods[\"packaging_amount\"] * prods[\"amount\"]\n",
    "prods[\"value\"] = prods[\"price\"] * prods[\"amount\"]\n",
    "prods[\"qty_hms\"] = prods.apply(lambda x: x.qty if x.is_hms==1 else 0, axis=1)\n",
    "prods[\"value_hms\"] = prods.apply(lambda x: x.value if x.is_hms==1 else 0, axis=1)"
   ]
  },
  {
   "cell_type": "code",
   "execution_count": 34,
   "metadata": {},
   "outputs": [
    {
     "output_type": "execute_result",
     "data": {
      "text/plain": "        id           sku_id            brand packaging  packaging_amount  \\\n0  3528407   013.000248.001  PT.Mayora Indah       KRT                11   \n1  3725739  001.4103159.000  PT.HM Sampoerna       bks                 1   \n\n   amount   price            book_time last_status     last_status_time  \\\n0       1  118000  2020-06-05 08:02:29   disetujui  2020-06-05 08:02:29   \n1       5   16400  2020-06-18 07:11:08   disetujui  2020-06-18 07:11:08   \n\n   is_hms  qty   value  qty_hms  value_hms  \n0       0   11  118000        0          0  \n1       1    5   82000        5      82000  ",
      "text/html": "<div>\n<style scoped>\n    .dataframe tbody tr th:only-of-type {\n        vertical-align: middle;\n    }\n\n    .dataframe tbody tr th {\n        vertical-align: top;\n    }\n\n    .dataframe thead th {\n        text-align: right;\n    }\n</style>\n<table border=\"1\" class=\"dataframe\">\n  <thead>\n    <tr style=\"text-align: right;\">\n      <th></th>\n      <th>id</th>\n      <th>sku_id</th>\n      <th>brand</th>\n      <th>packaging</th>\n      <th>packaging_amount</th>\n      <th>amount</th>\n      <th>price</th>\n      <th>book_time</th>\n      <th>last_status</th>\n      <th>last_status_time</th>\n      <th>is_hms</th>\n      <th>qty</th>\n      <th>value</th>\n      <th>qty_hms</th>\n      <th>value_hms</th>\n    </tr>\n  </thead>\n  <tbody>\n    <tr>\n      <th>0</th>\n      <td>3528407</td>\n      <td>013.000248.001</td>\n      <td>PT.Mayora Indah</td>\n      <td>KRT</td>\n      <td>11</td>\n      <td>1</td>\n      <td>118000</td>\n      <td>2020-06-05 08:02:29</td>\n      <td>disetujui</td>\n      <td>2020-06-05 08:02:29</td>\n      <td>0</td>\n      <td>11</td>\n      <td>118000</td>\n      <td>0</td>\n      <td>0</td>\n    </tr>\n    <tr>\n      <th>1</th>\n      <td>3725739</td>\n      <td>001.4103159.000</td>\n      <td>PT.HM Sampoerna</td>\n      <td>bks</td>\n      <td>1</td>\n      <td>5</td>\n      <td>16400</td>\n      <td>2020-06-18 07:11:08</td>\n      <td>disetujui</td>\n      <td>2020-06-18 07:11:08</td>\n      <td>1</td>\n      <td>5</td>\n      <td>82000</td>\n      <td>5</td>\n      <td>82000</td>\n    </tr>\n  </tbody>\n</table>\n</div>"
     },
     "metadata": {},
     "execution_count": 34
    }
   ],
   "source": [
    "prods.head(2)"
   ]
  },
  {
   "cell_type": "code",
   "execution_count": 36,
   "metadata": {},
   "outputs": [
    {
     "output_type": "execute_result",
     "data": {
      "text/plain": "        id  line_count  line_hms   value  value_hms  qty_hms\n0  3473338           3         3  359000     359000       15\n1  3473442           3         0  653000          0        0",
      "text/html": "<div>\n<style scoped>\n    .dataframe tbody tr th:only-of-type {\n        vertical-align: middle;\n    }\n\n    .dataframe tbody tr th {\n        vertical-align: top;\n    }\n\n    .dataframe thead th {\n        text-align: right;\n    }\n</style>\n<table border=\"1\" class=\"dataframe\">\n  <thead>\n    <tr style=\"text-align: right;\">\n      <th></th>\n      <th>id</th>\n      <th>line_count</th>\n      <th>line_hms</th>\n      <th>value</th>\n      <th>value_hms</th>\n      <th>qty_hms</th>\n    </tr>\n  </thead>\n  <tbody>\n    <tr>\n      <th>0</th>\n      <td>3473338</td>\n      <td>3</td>\n      <td>3</td>\n      <td>359000</td>\n      <td>359000</td>\n      <td>15</td>\n    </tr>\n    <tr>\n      <th>1</th>\n      <td>3473442</td>\n      <td>3</td>\n      <td>0</td>\n      <td>653000</td>\n      <td>0</td>\n      <td>0</td>\n    </tr>\n  </tbody>\n</table>\n</div>"
     },
     "metadata": {},
     "execution_count": 36
    }
   ],
   "source": [
    "prodSums = prods.groupby(\"id\").agg({\"is_hms\":[\"count\",\"sum\"],\"value\":\"sum\",\"value_hms\":\"sum\",\"qty_hms\":\"sum\"}).reset_index()\n",
    "prodSums.columns = [\"id\",\"line_count\",\"line_hms\",\"value\",\"value_hms\",\"qty_hms\"]\n",
    "prodSums.head(2)"
   ]
  },
  {
   "cell_type": "code",
   "execution_count": 37,
   "metadata": {},
   "outputs": [
    {
     "output_type": "execute_result",
     "data": {
      "text/plain": "        id  wholesaler_id  retailer_id buyer_type shipping_type order_type  \\\n0  3585206         137074     114640.0   retailer       pick-up        app   \n1  3585223         172815     190897.0   retailer       pick-up        app   \n\n       book_time       last_status last_status_time  line_count  line_hms  \\\n0  6/9/2020 8:46           selesai  6/22/2020 22:12           8         0   \n1  6/9/2020 8:47  pesanan-diterima  6/11/2020 15:05          10         4   \n\n    value  value_hms  qty_hms  \n0  476600          0        0  \n1  857500     278100       15  ",
      "text/html": "<div>\n<style scoped>\n    .dataframe tbody tr th:only-of-type {\n        vertical-align: middle;\n    }\n\n    .dataframe tbody tr th {\n        vertical-align: top;\n    }\n\n    .dataframe thead th {\n        text-align: right;\n    }\n</style>\n<table border=\"1\" class=\"dataframe\">\n  <thead>\n    <tr style=\"text-align: right;\">\n      <th></th>\n      <th>id</th>\n      <th>wholesaler_id</th>\n      <th>retailer_id</th>\n      <th>buyer_type</th>\n      <th>shipping_type</th>\n      <th>order_type</th>\n      <th>book_time</th>\n      <th>last_status</th>\n      <th>last_status_time</th>\n      <th>line_count</th>\n      <th>line_hms</th>\n      <th>value</th>\n      <th>value_hms</th>\n      <th>qty_hms</th>\n    </tr>\n  </thead>\n  <tbody>\n    <tr>\n      <th>0</th>\n      <td>3585206</td>\n      <td>137074</td>\n      <td>114640.0</td>\n      <td>retailer</td>\n      <td>pick-up</td>\n      <td>app</td>\n      <td>6/9/2020 8:46</td>\n      <td>selesai</td>\n      <td>6/22/2020 22:12</td>\n      <td>8</td>\n      <td>0</td>\n      <td>476600</td>\n      <td>0</td>\n      <td>0</td>\n    </tr>\n    <tr>\n      <th>1</th>\n      <td>3585223</td>\n      <td>172815</td>\n      <td>190897.0</td>\n      <td>retailer</td>\n      <td>pick-up</td>\n      <td>app</td>\n      <td>6/9/2020 8:47</td>\n      <td>pesanan-diterima</td>\n      <td>6/11/2020 15:05</td>\n      <td>10</td>\n      <td>4</td>\n      <td>857500</td>\n      <td>278100</td>\n      <td>15</td>\n    </tr>\n  </tbody>\n</table>\n</div>"
     },
     "metadata": {},
     "execution_count": 37
    }
   ],
   "source": [
    "orders = orders.merge(prodSums, how=\"left\", on=\"id\")\n",
    "orders.head(2)"
   ]
  },
  {
   "cell_type": "code",
   "execution_count": 39,
   "metadata": {
    "tags": []
   },
   "outputs": [
    {
     "output_type": "stream",
     "name": "stderr",
     "text": "WARNING: Logging before flag parsing goes to stderr.\nW0929 01:54:53.449408 4640052672 def_function.py:120] 5 out of the last 5 calls to <function recreate_function.<locals>.restored_function_body at 0x14b7e96a8> triggered tf.function retracing. Tracing is expensive and the excessive number of tracings could be due to (1) creating @tf.function repeatedly in a loop, (2) passing tensors with different shapes, (3) passing Python objects instead of tensors. For (1), please define your @tf.function outside of the loop. For (2), @tf.function has experimental_relax_shapes=True option that relaxes argument shapes that can avoid unnecessary retracing. For (3), please refer to https://www.tensorflow.org/tutorials/customization/performance#python_or_tensor_args and https://www.tensorflow.org/api_docs/python/tf/function for  more details.\nW0929 01:54:53.458761 4640052672 def_function.py:120] 6 out of the last 6 calls to <function recreate_function.<locals>.restored_function_body at 0x14ba9a598> triggered tf.function retracing. Tracing is expensive and the excessive number of tracings could be due to (1) creating @tf.function repeatedly in a loop, (2) passing tensors with different shapes, (3) passing Python objects instead of tensors. For (1), please define your @tf.function outside of the loop. For (2), @tf.function has experimental_relax_shapes=True option that relaxes argument shapes that can avoid unnecessary retracing. For (3), please refer to https://www.tensorflow.org/tutorials/customization/performance#python_or_tensor_args and https://www.tensorflow.org/api_docs/python/tf/function for  more details.\n"
    }
   ],
   "source": [
    "feed_cols = [\"wholesaler_id\",\"retailer_id\",\"line_count\",\"line_hms\",\"value\",\"value_hms\",\"qty_hms\"]\n",
    "model = tf.keras.models.load_model('aimodel/ws_all')\n",
    "\n",
    "def predict(mdl, x, treshold=65):\n",
    "    input_dict = {name: tf.convert_to_tensor([value]) for name, value in x.items()}\n",
    "    predictions = mdl.predict(input_dict)\n",
    "    prob = tf.nn.sigmoid(predictions[0])[0] * 100\n",
    "    return 1 if prob > treshold else 0\n",
    "    \n",
    "orders[\"anomaly_label\"] = orders[feed_cols].apply(lambda x: predict(model,x), axis=1)"
   ]
  },
  {
   "cell_type": "code",
   "execution_count": 40,
   "metadata": {
    "tags": []
   },
   "outputs": [],
   "source": [
    "so = pd.read_csv(\"datasource/test_data/test_orders.csv\").merge(orders[[\"id\",\"anomaly_label\"]],how=\"left\",on=\"id\")\n",
    "so.to_csv(\"dataresult/supervised_orders.csv\")"
   ]
  },
  {
   "cell_type": "code",
   "execution_count": 41,
   "metadata": {},
   "outputs": [
    {
     "output_type": "execute_result",
     "data": {
      "text/plain": "59"
     },
     "metadata": {},
     "execution_count": 41
    }
   ],
   "source": [
    "len(so[so[\"anomaly_label\"]==1])\n"
   ]
  },
  {
   "source": [
    "Data is saved on [dataresult/supervised_orders.csv](dataresult/supervised_orders.csv)"
   ],
   "cell_type": "markdown",
   "metadata": {}
  }
 ]
}